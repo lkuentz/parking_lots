{
 "cells": [
  {
   "cell_type": "code",
   "execution_count": 27,
   "id": "d91ac60c-657e-4419-ab77-00495ae924bc",
   "metadata": {},
   "outputs": [],
   "source": [
    "import geopandas as gpd\n",
    "from shapely.geometry import shape\n",
    "from shapely.geometry import Polygon, LineString, Point\n",
    "import math\n",
    "import numpy as np\n",
    "import pandas as pd\n",
    "import matplotlib.pyplot as plt"
   ]
  },
  {
   "cell_type": "code",
   "execution_count": 4,
   "id": "6320eca9-45ba-4a13-aa96-370e6b835bf0",
   "metadata": {},
   "outputs": [
    {
     "data": {
      "text/plain": [
       "['Indianapolis,  Indiana',\n",
       " 'Jacksonville, Florida',\n",
       " 'Seattle, Washington',\n",
       " 'Charlotte, North Carolina',\n",
       " 'Houston, Texas',\n",
       " 'Denver,  Colorado',\n",
       " 'Columbus, Ohio',\n",
       " 'San Francisco, California',\n",
       " 'San Jose, California',\n",
       " 'San Diego, California',\n",
       " 'New York, New York',\n",
       " 'Philadelphia, Pennsylvania',\n",
       " 'Dallas, Texas',\n",
       " 'El Paso, Texas',\n",
       " 'Chicago, Illinois',\n",
       " 'Los Angeles, California',\n",
       " 'Phoenix, Arizona',\n",
       " 'San Antonio, Texas',\n",
       " 'Austin, Texas',\n",
       " 'Washington, DC']"
      ]
     },
     "execution_count": 4,
     "metadata": {},
     "output_type": "execute_result"
    }
   ],
   "source": [
    "# Import top 20 cities by population file\n",
    "urban_areas = gpd.read_file('/Users/lily/Documents/GitHub/parking_lots/states/20_cities.geojson')\n",
    "\n",
    "# Create list of city names\n",
    "ua_names = urban_areas['NAME10']\n",
    "cities = []\n",
    "for i in range(len(ua_names)):\n",
    "    cities.append(ua_names[i])\n",
    "cities"
   ]
  },
  {
   "cell_type": "code",
   "execution_count": 15,
   "id": "6bf7edca-f971-4f89-b9af-103fb69c07d2",
   "metadata": {},
   "outputs": [
    {
     "data": {
      "text/plain": [
       "'San Jose'"
      ]
     },
     "execution_count": 15,
     "metadata": {},
     "output_type": "execute_result"
    }
   ],
   "source": [
    "# Pop these indices in this order to correct the cities list -- 3,4,5,6,6,11,11,12,5\n",
    "cities.pop(5)"
   ]
  },
  {
   "cell_type": "code",
   "execution_count": 16,
   "id": "c5621f11-8798-4c75-ae3c-f3f3d092b117",
   "metadata": {},
   "outputs": [],
   "source": [
    "# Correct cities list to only contain the city names without the state attached\n",
    "import re\n",
    "city_names = []\n",
    "for i in range(len(cities)):\n",
    "    get_name = cities[i]\n",
    "    fixed_name = re.sub(r',[^,]*$', '', get_name)\n",
    "    city_names.append(fixed_name)\n",
    "cities = city_names"
   ]
  },
  {
   "cell_type": "code",
   "execution_count": 18,
   "id": "83b8fa5e-0c99-4100-9e3b-bb6e9cf8bb14",
   "metadata": {},
   "outputs": [],
   "source": [
    "def convert_wgs_to_utm(lon, lat):\n",
    "    utm_band = str((math.floor((lon + 180) / 6 ) % 60) + 1)\n",
    "    if len(utm_band) == 1:\n",
    "        utm_band = '0'+utm_band\n",
    "    if lat >= 0:\n",
    "        epsg_code = '326' + utm_band\n",
    "    else:\n",
    "        epsg_code = '327' + utm_band\n",
    "    return epsg_code"
   ]
  },
  {
   "cell_type": "code",
   "execution_count": 32,
   "id": "da80862b-b7da-4ce3-a4bb-b6649e463cf6",
   "metadata": {},
   "outputs": [
    {
     "data": {
      "text/plain": [
       "[0    3.477085\n",
       " dtype: float64,\n",
       " 0    0.422643\n",
       " dtype: float64,\n",
       " 0    1.103871\n",
       " dtype: float64,\n",
       " 0    1.162967\n",
       " dtype: float64,\n",
       " 0    2.30084\n",
       " dtype: float64,\n",
       " 0    2.212235\n",
       " dtype: float64,\n",
       " 0    0.877751\n",
       " dtype: float64,\n",
       " 0    0.43033\n",
       " dtype: float64,\n",
       " 0    2.625216\n",
       " dtype: float64,\n",
       " 0    1.202591\n",
       " dtype: float64,\n",
       " 0    1.732617\n",
       " dtype: float64]"
      ]
     },
     "execution_count": 32,
     "metadata": {},
     "output_type": "execute_result"
    }
   ],
   "source": [
    "parking_percents = []\n",
    "city_areas = []\n",
    "parking_sums = []\n",
    "for i in range(len(cities)):\n",
    "    # Read city boundary and parking lot polygon files\n",
    "    city = gpd.read_file('/Users/lily/Documents/GitHub/parking_lots/city_boundaries/' + cities[i].replace(' ', '_') + '_boundary.shp')\n",
    "    parking_lots = gpd.read_file('/Users/lily/Documents/GitHub/parking_lots/parking_lots/' + cities[i].replace(' ', '_') + '_parking.shp')\n",
    "    # Set CRS to WGS 84 (EPSG:4326)\n",
    "    city_wgs = city.to_crs(4326)\n",
    "    city_parking_wgs = parking_lots.to_crs(4326)\n",
    "    # Identify city polygon coords\n",
    "    coords = city_wgs.total_bounds #a tuple containing minx, miny, maxx, maxy values for the bounds of the series as a whole\n",
    "    # Get UTM zone EPSG code of city\n",
    "    long = coords[0]\n",
    "    lat = coords[0]\n",
    "    utm_zone = convert_wgs_to_utm(long, lat)\n",
    "    epsg = 'EPSG:' + utm_zone\n",
    "    # Correct CRS to relevant UTM\n",
    "    city_utm = city_wgs.to_crs(epsg)\n",
    "    parking_utm = city_parking_wgs.to_crs(epsg)\n",
    "    # Calculate area of OSM city boundary\n",
    "    city_area = city_utm.area\n",
    "    city_areas.append(city_area)\n",
    "    # Calculate areas (and area percents) of each parking lot and add column to geoseries\n",
    "    parking_utm['area'] = parking_utm.area\n",
    "    parking_utm['area_percent'] = (parking_utm['area'] / city_area) * 100\n",
    "    # Calculate sum of parking lot areas\n",
    "    parking_sum = np.sum(parking_utm['area'])\n",
    "    parking_sums.append(parking_sum)\n",
    "    # Calculate parking lot area of city as a percent of total city area\n",
    "    parking_percent = (parking_sum / city_area) * 100\n",
    "    # Add percent value to list\n",
    "    parking_percents.append(parking_percent)\n",
    "parking_percents"
   ]
  },
  {
   "cell_type": "code",
   "execution_count": 21,
   "id": "fcc5f0aa-f91b-4b92-9307-876395257645",
   "metadata": {},
   "outputs": [
    {
     "name": "stdout",
     "output_type": "stream",
     "text": [
      "0    3.477085\n",
      "dtype: float64 Indianapolis\n",
      "0    0.422643\n",
      "dtype: float64 Jacksonville\n",
      "0    1.103871\n",
      "dtype: float64 Seattle\n",
      "0    1.162967\n",
      "dtype: float64 Houston\n",
      "0    2.30084\n",
      "dtype: float64 Columbus\n",
      "0    2.212235\n",
      "dtype: float64 Philadelphia\n",
      "0    0.877751\n",
      "dtype: float64 Dallas\n",
      "0    0.43033\n",
      "dtype: float64 El Paso\n",
      "0    2.625216\n",
      "dtype: float64 Chicago\n",
      "0    1.202591\n",
      "dtype: float64 Los Angeles\n",
      "0    1.732617\n",
      "dtype: float64 Austin\n"
     ]
    }
   ],
   "source": [
    "for i in range(len(cities)):\n",
    "    print(parking_percents[i], cities[i])"
   ]
  },
  {
   "cell_type": "code",
   "execution_count": 33,
   "id": "940c6e9d-60db-4482-b66b-af2f50fc1edd",
   "metadata": {},
   "outputs": [
    {
     "data": {
      "text/html": [
       "<div>\n",
       "<style scoped>\n",
       "    .dataframe tbody tr th:only-of-type {\n",
       "        vertical-align: middle;\n",
       "    }\n",
       "\n",
       "    .dataframe tbody tr th {\n",
       "        vertical-align: top;\n",
       "    }\n",
       "\n",
       "    .dataframe thead th {\n",
       "        text-align: right;\n",
       "    }\n",
       "</style>\n",
       "<table border=\"1\" class=\"dataframe\">\n",
       "  <thead>\n",
       "    <tr style=\"text-align: right;\">\n",
       "      <th></th>\n",
       "      <th>City Name</th>\n",
       "      <th>Parking Lot Cover (%)</th>\n",
       "      <th>Parking Lot Area</th>\n",
       "      <th>City Area</th>\n",
       "    </tr>\n",
       "  </thead>\n",
       "  <tbody>\n",
       "    <tr>\n",
       "      <th>0</th>\n",
       "      <td>Indianapolis</td>\n",
       "      <td>3.477085</td>\n",
       "      <td>3.627412e+07</td>\n",
       "      <td>1.043234e+09</td>\n",
       "    </tr>\n",
       "    <tr>\n",
       "      <th>1</th>\n",
       "      <td>Jacksonville</td>\n",
       "      <td>0.422643</td>\n",
       "      <td>9.572265e+06</td>\n",
       "      <td>2.264857e+09</td>\n",
       "    </tr>\n",
       "    <tr>\n",
       "      <th>2</th>\n",
       "      <td>Seattle</td>\n",
       "      <td>1.103871</td>\n",
       "      <td>4.118717e+06</td>\n",
       "      <td>3.731159e+08</td>\n",
       "    </tr>\n",
       "    <tr>\n",
       "      <th>3</th>\n",
       "      <td>Houston</td>\n",
       "      <td>1.162967</td>\n",
       "      <td>1.847177e+07</td>\n",
       "      <td>1.588331e+09</td>\n",
       "    </tr>\n",
       "    <tr>\n",
       "      <th>4</th>\n",
       "      <td>Columbus</td>\n",
       "      <td>2.300840</td>\n",
       "      <td>1.339359e+07</td>\n",
       "      <td>5.821173e+08</td>\n",
       "    </tr>\n",
       "    <tr>\n",
       "      <th>5</th>\n",
       "      <td>Philadelphia</td>\n",
       "      <td>2.212235</td>\n",
       "      <td>8.161923e+06</td>\n",
       "      <td>3.689446e+08</td>\n",
       "    </tr>\n",
       "    <tr>\n",
       "      <th>6</th>\n",
       "      <td>Dallas</td>\n",
       "      <td>0.877751</td>\n",
       "      <td>8.768296e+06</td>\n",
       "      <td>9.989499e+08</td>\n",
       "    </tr>\n",
       "    <tr>\n",
       "      <th>7</th>\n",
       "      <td>El Paso</td>\n",
       "      <td>0.430330</td>\n",
       "      <td>2.879966e+06</td>\n",
       "      <td>6.692453e+08</td>\n",
       "    </tr>\n",
       "    <tr>\n",
       "      <th>8</th>\n",
       "      <td>Chicago</td>\n",
       "      <td>2.625216</td>\n",
       "      <td>1.595445e+07</td>\n",
       "      <td>6.077386e+08</td>\n",
       "    </tr>\n",
       "    <tr>\n",
       "      <th>9</th>\n",
       "      <td>Los Angeles</td>\n",
       "      <td>1.202591</td>\n",
       "      <td>1.637119e+07</td>\n",
       "      <td>1.361327e+09</td>\n",
       "    </tr>\n",
       "    <tr>\n",
       "      <th>10</th>\n",
       "      <td>Austin</td>\n",
       "      <td>1.732617</td>\n",
       "      <td>1.255222e+07</td>\n",
       "      <td>7.244660e+08</td>\n",
       "    </tr>\n",
       "  </tbody>\n",
       "</table>\n",
       "</div>"
      ],
      "text/plain": [
       "       City Name  Parking Lot Cover (%)  Parking Lot Area     City Area\n",
       "0   Indianapolis               3.477085      3.627412e+07  1.043234e+09\n",
       "1   Jacksonville               0.422643      9.572265e+06  2.264857e+09\n",
       "2        Seattle               1.103871      4.118717e+06  3.731159e+08\n",
       "3        Houston               1.162967      1.847177e+07  1.588331e+09\n",
       "4       Columbus               2.300840      1.339359e+07  5.821173e+08\n",
       "5   Philadelphia               2.212235      8.161923e+06  3.689446e+08\n",
       "6         Dallas               0.877751      8.768296e+06  9.989499e+08\n",
       "7        El Paso               0.430330      2.879966e+06  6.692453e+08\n",
       "8        Chicago               2.625216      1.595445e+07  6.077386e+08\n",
       "9    Los Angeles               1.202591      1.637119e+07  1.361327e+09\n",
       "10        Austin               1.732617      1.255222e+07  7.244660e+08"
      ]
     },
     "execution_count": 33,
     "metadata": {},
     "output_type": "execute_result"
    }
   ],
   "source": [
    "parking_data = {'City Name': ['Indianapolis','Jacksonville','Seattle','Houston','Columbus','Philadelphia','Dallas','El Paso',\n",
    "                             'Chicago','Los Angeles','Austin'], \n",
    "                'Parking Lot Cover (%)': [3.477085,0.422643,1.103871,1.162967,2.30084,2.212235,0.877751,0.43033,2.625216,\n",
    "                                         1.202591,1.732617],\n",
    "                'Parking Lot Area': [36274124.73819159, 9572264.539578095, 4118717.4989357283, 18471771.549984884,\n",
    "                                     13393589.675041903, 8161922.90215688, 8768296.200081225, 2879966.469996631,\n",
    "                                     15954450.792099228, 16371192.338857906, 12552220.82217376],\n",
    "               'City Area': [1.043234e+09,2.264857e+09,3.731159e+08,1.588331e+09,5.821173e+08,3.689446e+08,9.989499e+08,\n",
    "                            6.692453e+08,6.077386e+08,1.361327e+09,7.244660e+08]}\n",
    "\n",
    "parking_df = pd.DataFrame(data=parking_data)\n",
    "parking_df"
   ]
  },
  {
   "cell_type": "code",
   "execution_count": 43,
   "id": "652be0ba-4316-483a-8501-510667199c60",
   "metadata": {},
   "outputs": [
    {
     "data": {
      "image/png": "[encoded data removed]",
      "text/plain": [
       "<Figure size 1800x576 with 1 Axes>"
      ]
     },
     "metadata": {
      "needs_background": "light"
     },
     "output_type": "display_data"
    },
    {
     "data": {
      "text/plain": [
       "<Figure size 144x144 with 0 Axes>"
      ]
     },
     "metadata": {},
     "output_type": "display_data"
    }
   ],
   "source": [
    "width = 0.35       # the width of the bars: can also be len(x) sequence\n",
    "\n",
    "fig, ax = plt.subplots(figsize = (25,8))\n",
    "\n",
    "ax.bar(cities, parking_df['Parking Lot Area'], width, label='Parking')\n",
    "ax.bar(cities, parking_df['City Area'], width, bottom=parking_df['Parking Lot Area'],\n",
    "       label='Total City')\n",
    "\n",
    "ax.set_ylabel('Areas')\n",
    "ax.set_title('Parking Lot Areas Compared to City Totals')\n",
    "ax.legend()\n",
    "\n",
    "plt.show()\n",
    "plt.savefig('/Users/lily/Documents/GitHub/parking_lots/figures/parking_city_bar_chart.png')"
   ]
  },
  {
   "cell_type": "code",
   "execution_count": null,
   "id": "3d25d771-5b65-4142-999b-50d149ca07af",
   "metadata": {},
   "outputs": [],
   "source": []
  }
 ],
 "metadata": {
  "kernelspec": {
   "display_name": "Python 3 (ipykernel)",
   "language": "python",
   "name": "python3"
  },
  "language_info": {
   "codemirror_mode": {
    "name": "ipython",
    "version": 3
   },
   "file_extension": ".py",
   "mimetype": "text/x-python",
   "name": "python",
   "nbconvert_exporter": "python",
   "pygments_lexer": "ipython3",
   "version": "3.8.12"
  }
 },
 "nbformat": 4,
 "nbformat_minor": 5
}
